{
  "nbformat": 4,
  "nbformat_minor": 0,
  "metadata": {
    "colab": {
      "name": "Yolo_Basic_v2.ipynb",
      "version": "0.3.2",
      "provenance": [],
      "include_colab_link": true
    },
    "kernelspec": {
      "name": "python3",
      "display_name": "Python 3"
    },
    "accelerator": "GPU"
  },
  "cells": [
    {
      "cell_type": "markdown",
      "metadata": {
        "id": "view-in-github",
        "colab_type": "text"
      },
      "source": [
        "<a href=\"https://colab.research.google.com/github/Anil1331/EIP3-Assignments/blob/master/Yolo_Basic_v2.ipynb\" target=\"_parent\"><img src=\"https://colab.research.google.com/assets/colab-badge.svg\" alt=\"Open In Colab\"/></a>"
      ]
    },
    {
      "metadata": {
        "id": "8edSiHPi2N5l",
        "colab_type": "code",
        "colab": {
          "base_uri": "https://localhost:8080/",
          "height": 34
        },
        "outputId": "64cc4f57-6d04-4918-e45f-f4d12a5f478d"
      },
      "cell_type": "code",
      "source": [
        "# https://keras.io/\n",
        "!pip install -q keras\n",
        "import keras\n",
        "\n",
        "import keras\n",
        "from keras.datasets import cifar10\n",
        "from keras.models import Model, Sequential\n",
        "from keras.layers import Dense, Dropout, Flatten, Input, AveragePooling2D, merge, Activation\n",
        "from keras.layers import Conv2D, MaxPooling2D, BatchNormalization\n",
        "from keras.layers import Concatenate\n",
        "from keras.optimizers import Adam\n",
        "from keras.layers.advanced_activations import LeakyReLU\n",
        "from keras.layers import Reshape, Activation, Conv2D, Input, MaxPooling2D, BatchNormalization, Flatten, Dense, Lambda\n",
        "from keras.layers.merge import concatenate\n",
        "\n",
        "# this part will prevent tensorflow to allocate all the avaliable GPU Memory\n",
        "# backend\n",
        "import tensorflow as tf\n",
        "from keras import backend as k\n",
        "\n",
        "# Don't pre-allocate memory; allocate as-needed\n",
        "config = tf.ConfigProto()\n",
        "config.gpu_options.allow_growth = True\n",
        "\n",
        "# Create a session with the above options specified.\n",
        "k.tensorflow_backend.set_session(tf.Session(config=config))\n",
        "\n",
        "# Hyperparameters\n",
        "batch_size = 128\n",
        "num_classes = 10\n",
        "epochs = 50\n",
        "l = 10\n",
        "num_filter = 20"
      ],
      "execution_count": 1,
      "outputs": [
        {
          "output_type": "stream",
          "text": [
            "Using TensorFlow backend.\n"
          ],
          "name": "stderr"
        }
      ]
    },
    {
      "metadata": {
        "id": "-hkvQwOH2cCO",
        "colab_type": "code",
        "colab": {}
      },
      "cell_type": "code",
      "source": [
        "# Load CIFAR10 Data\n",
        "(x_train, y_train), (x_test, y_test) = cifar10.load_data()\n",
        "img_height, img_width, channel = x_train.shape[1],x_train.shape[2],x_train.shape[3]\n",
        "\n",
        "# convert to one hot encoing \n",
        "y_train = keras.utils.to_categorical(y_train, num_classes)\n",
        "y_test = keras.utils.to_categorical(y_test, num_classes)"
      ],
      "execution_count": 0,
      "outputs": []
    },
    {
      "metadata": {
        "id": "ztoDypc63gEs",
        "colab_type": "code",
        "colab": {}
      },
      "cell_type": "code",
      "source": [
        "def space_to_depth_x2(x):\n",
        "    return tf.space_to_depth(x, block_size=8)"
      ],
      "execution_count": 0,
      "outputs": []
    },
    {
      "metadata": {
        "id": "ahUZLaorfiQH",
        "colab_type": "code",
        "colab": {}
      },
      "cell_type": "code",
      "source": [
        "def create_block(x):\n",
        "  layer = Conv2D(32, (3,3), strides=(1,1), padding='same', use_bias=False)(x)\n",
        "  layer = BatchNormalization()(layer)\n",
        "  layer = LeakyReLU(alpha=0.1)(layer)\n",
        "\n",
        "  layer = Conv2D(64, (3,3), strides=(1,1), padding='same', use_bias=False)(layer)\n",
        "  layer = BatchNormalization()(layer)\n",
        "  layer = LeakyReLU(alpha=0.1)(layer)\n",
        "  \n",
        "  layer = Conv2D(128, (3,3), strides=(1,1), padding='same', use_bias=False)(layer)\n",
        "  layer = BatchNormalization()(layer)\n",
        "  layer = LeakyReLU(alpha=0.1)(layer)\n",
        "  \n",
        "  layer = Conv2D(256, (3,3), strides=(1,1), padding='same', use_bias=False)(layer)\n",
        "  layer = BatchNormalization()(layer)\n",
        "  layer = LeakyReLU(alpha=0.1)(layer)\n",
        "  \n",
        "  layer = MaxPooling2D(pool_size=(2, 2))(layer)\n",
        "  return layer  "
      ],
      "execution_count": 0,
      "outputs": []
    },
    {
      "metadata": {
        "id": "SNnGm8Tv2fR1",
        "colab_type": "code",
        "colab": {}
      },
      "cell_type": "code",
      "source": [
        "input = Input(shape=(img_height, img_width, channel,))\n",
        "\n",
        "block1 = create_block(input)\n",
        "skip_connection = block1\n",
        "block2 = create_block(block1)\n",
        "block3 = create_block(block2)\n",
        "block4 = create_block(block3)\n",
        "\n",
        "\n",
        "skip_connection = Conv2D(64, (1,1), strides=(1,1), padding='same', name='conv_21', use_bias=False)(skip_connection)\n",
        "skip_connection = BatchNormalization(name='norm_21')(skip_connection)\n",
        "skip_connection = LeakyReLU(alpha=0.1)(skip_connection)\n",
        "skip_connection = Lambda(space_to_depth_x2)(skip_connection)\n",
        "\n",
        "x = concatenate([skip_connection, block4])\n",
        "\n",
        "flatten = Flatten()(x)\n",
        "\n",
        "output = Dense(num_classes, activation='softmax')(flatten)\n",
        "\n"
      ],
      "execution_count": 0,
      "outputs": []
    },
    {
      "metadata": {
        "id": "Jeh0VAxy26NV",
        "colab_type": "code",
        "outputId": "02f98197-0850-424c-f5bc-8baad91f01b8",
        "colab": {
          "base_uri": "https://localhost:8080/",
          "height": 2193
        }
      },
      "cell_type": "code",
      "source": [
        "model = Model(inputs=[input], outputs=[output])\n",
        "model.summary()"
      ],
      "execution_count": 9,
      "outputs": [
        {
          "output_type": "stream",
          "text": [
            "__________________________________________________________________________________________________\n",
            "Layer (type)                    Output Shape         Param #     Connected to                     \n",
            "==================================================================================================\n",
            "input_2 (InputLayer)            (None, 32, 32, 3)    0                                            \n",
            "__________________________________________________________________________________________________\n",
            "conv2d_17 (Conv2D)              (None, 32, 32, 32)   864         input_2[0][0]                    \n",
            "__________________________________________________________________________________________________\n",
            "batch_normalization_17 (BatchNo (None, 32, 32, 32)   128         conv2d_17[0][0]                  \n",
            "__________________________________________________________________________________________________\n",
            "leaky_re_lu_18 (LeakyReLU)      (None, 32, 32, 32)   0           batch_normalization_17[0][0]     \n",
            "__________________________________________________________________________________________________\n",
            "conv2d_18 (Conv2D)              (None, 32, 32, 64)   18432       leaky_re_lu_18[0][0]             \n",
            "__________________________________________________________________________________________________\n",
            "batch_normalization_18 (BatchNo (None, 32, 32, 64)   256         conv2d_18[0][0]                  \n",
            "__________________________________________________________________________________________________\n",
            "leaky_re_lu_19 (LeakyReLU)      (None, 32, 32, 64)   0           batch_normalization_18[0][0]     \n",
            "__________________________________________________________________________________________________\n",
            "conv2d_19 (Conv2D)              (None, 32, 32, 128)  73728       leaky_re_lu_19[0][0]             \n",
            "__________________________________________________________________________________________________\n",
            "batch_normalization_19 (BatchNo (None, 32, 32, 128)  512         conv2d_19[0][0]                  \n",
            "__________________________________________________________________________________________________\n",
            "leaky_re_lu_20 (LeakyReLU)      (None, 32, 32, 128)  0           batch_normalization_19[0][0]     \n",
            "__________________________________________________________________________________________________\n",
            "conv2d_20 (Conv2D)              (None, 32, 32, 256)  294912      leaky_re_lu_20[0][0]             \n",
            "__________________________________________________________________________________________________\n",
            "batch_normalization_20 (BatchNo (None, 32, 32, 256)  1024        conv2d_20[0][0]                  \n",
            "__________________________________________________________________________________________________\n",
            "leaky_re_lu_21 (LeakyReLU)      (None, 32, 32, 256)  0           batch_normalization_20[0][0]     \n",
            "__________________________________________________________________________________________________\n",
            "max_pooling2d_5 (MaxPooling2D)  (None, 16, 16, 256)  0           leaky_re_lu_21[0][0]             \n",
            "__________________________________________________________________________________________________\n",
            "conv2d_21 (Conv2D)              (None, 16, 16, 32)   73728       max_pooling2d_5[0][0]            \n",
            "__________________________________________________________________________________________________\n",
            "batch_normalization_21 (BatchNo (None, 16, 16, 32)   128         conv2d_21[0][0]                  \n",
            "__________________________________________________________________________________________________\n",
            "leaky_re_lu_22 (LeakyReLU)      (None, 16, 16, 32)   0           batch_normalization_21[0][0]     \n",
            "__________________________________________________________________________________________________\n",
            "conv2d_22 (Conv2D)              (None, 16, 16, 64)   18432       leaky_re_lu_22[0][0]             \n",
            "__________________________________________________________________________________________________\n",
            "batch_normalization_22 (BatchNo (None, 16, 16, 64)   256         conv2d_22[0][0]                  \n",
            "__________________________________________________________________________________________________\n",
            "leaky_re_lu_23 (LeakyReLU)      (None, 16, 16, 64)   0           batch_normalization_22[0][0]     \n",
            "__________________________________________________________________________________________________\n",
            "conv2d_23 (Conv2D)              (None, 16, 16, 128)  73728       leaky_re_lu_23[0][0]             \n",
            "__________________________________________________________________________________________________\n",
            "batch_normalization_23 (BatchNo (None, 16, 16, 128)  512         conv2d_23[0][0]                  \n",
            "__________________________________________________________________________________________________\n",
            "leaky_re_lu_24 (LeakyReLU)      (None, 16, 16, 128)  0           batch_normalization_23[0][0]     \n",
            "__________________________________________________________________________________________________\n",
            "conv2d_24 (Conv2D)              (None, 16, 16, 256)  294912      leaky_re_lu_24[0][0]             \n",
            "__________________________________________________________________________________________________\n",
            "batch_normalization_24 (BatchNo (None, 16, 16, 256)  1024        conv2d_24[0][0]                  \n",
            "__________________________________________________________________________________________________\n",
            "leaky_re_lu_25 (LeakyReLU)      (None, 16, 16, 256)  0           batch_normalization_24[0][0]     \n",
            "__________________________________________________________________________________________________\n",
            "max_pooling2d_6 (MaxPooling2D)  (None, 8, 8, 256)    0           leaky_re_lu_25[0][0]             \n",
            "__________________________________________________________________________________________________\n",
            "conv2d_25 (Conv2D)              (None, 8, 8, 32)     73728       max_pooling2d_6[0][0]            \n",
            "__________________________________________________________________________________________________\n",
            "batch_normalization_25 (BatchNo (None, 8, 8, 32)     128         conv2d_25[0][0]                  \n",
            "__________________________________________________________________________________________________\n",
            "leaky_re_lu_26 (LeakyReLU)      (None, 8, 8, 32)     0           batch_normalization_25[0][0]     \n",
            "__________________________________________________________________________________________________\n",
            "conv2d_26 (Conv2D)              (None, 8, 8, 64)     18432       leaky_re_lu_26[0][0]             \n",
            "__________________________________________________________________________________________________\n",
            "batch_normalization_26 (BatchNo (None, 8, 8, 64)     256         conv2d_26[0][0]                  \n",
            "__________________________________________________________________________________________________\n",
            "leaky_re_lu_27 (LeakyReLU)      (None, 8, 8, 64)     0           batch_normalization_26[0][0]     \n",
            "__________________________________________________________________________________________________\n",
            "conv2d_27 (Conv2D)              (None, 8, 8, 128)    73728       leaky_re_lu_27[0][0]             \n",
            "__________________________________________________________________________________________________\n",
            "batch_normalization_27 (BatchNo (None, 8, 8, 128)    512         conv2d_27[0][0]                  \n",
            "__________________________________________________________________________________________________\n",
            "leaky_re_lu_28 (LeakyReLU)      (None, 8, 8, 128)    0           batch_normalization_27[0][0]     \n",
            "__________________________________________________________________________________________________\n",
            "conv2d_28 (Conv2D)              (None, 8, 8, 256)    294912      leaky_re_lu_28[0][0]             \n",
            "__________________________________________________________________________________________________\n",
            "batch_normalization_28 (BatchNo (None, 8, 8, 256)    1024        conv2d_28[0][0]                  \n",
            "__________________________________________________________________________________________________\n",
            "leaky_re_lu_29 (LeakyReLU)      (None, 8, 8, 256)    0           batch_normalization_28[0][0]     \n",
            "__________________________________________________________________________________________________\n",
            "max_pooling2d_7 (MaxPooling2D)  (None, 4, 4, 256)    0           leaky_re_lu_29[0][0]             \n",
            "__________________________________________________________________________________________________\n",
            "conv2d_29 (Conv2D)              (None, 4, 4, 32)     73728       max_pooling2d_7[0][0]            \n",
            "__________________________________________________________________________________________________\n",
            "batch_normalization_29 (BatchNo (None, 4, 4, 32)     128         conv2d_29[0][0]                  \n",
            "__________________________________________________________________________________________________\n",
            "leaky_re_lu_30 (LeakyReLU)      (None, 4, 4, 32)     0           batch_normalization_29[0][0]     \n",
            "__________________________________________________________________________________________________\n",
            "conv2d_30 (Conv2D)              (None, 4, 4, 64)     18432       leaky_re_lu_30[0][0]             \n",
            "__________________________________________________________________________________________________\n",
            "batch_normalization_30 (BatchNo (None, 4, 4, 64)     256         conv2d_30[0][0]                  \n",
            "__________________________________________________________________________________________________\n",
            "leaky_re_lu_31 (LeakyReLU)      (None, 4, 4, 64)     0           batch_normalization_30[0][0]     \n",
            "__________________________________________________________________________________________________\n",
            "conv2d_31 (Conv2D)              (None, 4, 4, 128)    73728       leaky_re_lu_31[0][0]             \n",
            "__________________________________________________________________________________________________\n",
            "batch_normalization_31 (BatchNo (None, 4, 4, 128)    512         conv2d_31[0][0]                  \n",
            "__________________________________________________________________________________________________\n",
            "leaky_re_lu_32 (LeakyReLU)      (None, 4, 4, 128)    0           batch_normalization_31[0][0]     \n",
            "__________________________________________________________________________________________________\n",
            "conv_21 (Conv2D)                (None, 16, 16, 64)   16384       max_pooling2d_5[0][0]            \n",
            "__________________________________________________________________________________________________\n",
            "conv2d_32 (Conv2D)              (None, 4, 4, 256)    294912      leaky_re_lu_32[0][0]             \n",
            "__________________________________________________________________________________________________\n",
            "norm_21 (BatchNormalization)    (None, 16, 16, 64)   256         conv_21[0][0]                    \n",
            "__________________________________________________________________________________________________\n",
            "batch_normalization_32 (BatchNo (None, 4, 4, 256)    1024        conv2d_32[0][0]                  \n",
            "__________________________________________________________________________________________________\n",
            "leaky_re_lu_34 (LeakyReLU)      (None, 16, 16, 64)   0           norm_21[0][0]                    \n",
            "__________________________________________________________________________________________________\n",
            "leaky_re_lu_33 (LeakyReLU)      (None, 4, 4, 256)    0           batch_normalization_32[0][0]     \n",
            "__________________________________________________________________________________________________\n",
            "lambda_2 (Lambda)               (None, 2, 2, 4096)   0           leaky_re_lu_34[0][0]             \n",
            "__________________________________________________________________________________________________\n",
            "max_pooling2d_8 (MaxPooling2D)  (None, 2, 2, 256)    0           leaky_re_lu_33[0][0]             \n",
            "__________________________________________________________________________________________________\n",
            "concatenate_2 (Concatenate)     (None, 2, 2, 4352)   0           lambda_2[0][0]                   \n",
            "                                                                 max_pooling2d_8[0][0]            \n",
            "__________________________________________________________________________________________________\n",
            "flatten_1 (Flatten)             (None, 17408)        0           concatenate_2[0][0]              \n",
            "__________________________________________________________________________________________________\n",
            "dense_1 (Dense)                 (None, 10)           174090      flatten_1[0][0]                  \n",
            "==================================================================================================\n",
            "Total params: 1,968,746\n",
            "Trainable params: 1,964,778\n",
            "Non-trainable params: 3,968\n",
            "__________________________________________________________________________________________________\n"
          ],
          "name": "stdout"
        }
      ]
    },
    {
      "metadata": {
        "id": "apCwOjvZ4Kts",
        "colab_type": "code",
        "colab": {}
      },
      "cell_type": "code",
      "source": [
        "# determine Loss function and Optimizer\n",
        "model.compile(loss='categorical_crossentropy',\n",
        "              optimizer=Adam(),\n",
        "              metrics=['accuracy'])"
      ],
      "execution_count": 0,
      "outputs": []
    },
    {
      "metadata": {
        "id": "tLaFy2AO4TLl",
        "colab_type": "code",
        "outputId": "b7d10506-a571-4cfc-fdab-a164a2d88e70",
        "colab": {
          "base_uri": "https://localhost:8080/",
          "height": 1822
        }
      },
      "cell_type": "code",
      "source": [
        "model.fit(x_train, y_train,\n",
        "                    batch_size=batch_size,\n",
        "                    epochs=epochs,\n",
        "                    verbose=1,\n",
        "                    validation_data=(x_test, y_test))"
      ],
      "execution_count": 11,
      "outputs": [
        {
          "output_type": "stream",
          "text": [
            "WARNING:tensorflow:From /usr/local/lib/python3.6/dist-packages/tensorflow/python/ops/math_ops.py:3066: to_int32 (from tensorflow.python.ops.math_ops) is deprecated and will be removed in a future version.\n",
            "Instructions for updating:\n",
            "Use tf.cast instead.\n",
            "Train on 50000 samples, validate on 10000 samples\n",
            "Epoch 1/50\n",
            "50000/50000 [==============================] - 109s 2ms/step - loss: 1.4776 - acc: 0.5229 - val_loss: 1.2140 - val_acc: 0.5894\n",
            "Epoch 2/50\n",
            "50000/50000 [==============================] - 103s 2ms/step - loss: 0.9065 - acc: 0.6899 - val_loss: 1.0237 - val_acc: 0.6600\n",
            "Epoch 3/50\n",
            "50000/50000 [==============================] - 103s 2ms/step - loss: 0.7449 - acc: 0.7409 - val_loss: 0.8700 - val_acc: 0.7024\n",
            "Epoch 4/50\n",
            "50000/50000 [==============================] - 102s 2ms/step - loss: 0.6288 - acc: 0.7813 - val_loss: 0.9777 - val_acc: 0.6827\n",
            "Epoch 5/50\n",
            "50000/50000 [==============================] - 103s 2ms/step - loss: 0.5283 - acc: 0.8164 - val_loss: 1.0015 - val_acc: 0.6943\n",
            "Epoch 6/50\n",
            "50000/50000 [==============================] - 102s 2ms/step - loss: 0.4384 - acc: 0.8464 - val_loss: 0.9376 - val_acc: 0.7167\n",
            "Epoch 7/50\n",
            "50000/50000 [==============================] - 102s 2ms/step - loss: 0.3436 - acc: 0.8793 - val_loss: 1.1069 - val_acc: 0.6932\n",
            "Epoch 8/50\n",
            "50000/50000 [==============================] - 103s 2ms/step - loss: 0.2655 - acc: 0.9068 - val_loss: 1.0242 - val_acc: 0.7214\n",
            "Epoch 9/50\n",
            "50000/50000 [==============================] - 103s 2ms/step - loss: 0.1989 - acc: 0.9306 - val_loss: 1.2222 - val_acc: 0.6970\n",
            "Epoch 10/50\n",
            "50000/50000 [==============================] - 103s 2ms/step - loss: 0.1473 - acc: 0.9505 - val_loss: 1.2391 - val_acc: 0.7056\n",
            "Epoch 11/50\n",
            "50000/50000 [==============================] - 103s 2ms/step - loss: 0.1318 - acc: 0.9548 - val_loss: 1.3466 - val_acc: 0.6975\n",
            "Epoch 12/50\n",
            "50000/50000 [==============================] - 102s 2ms/step - loss: 0.1036 - acc: 0.9651 - val_loss: 1.3121 - val_acc: 0.7104\n",
            "Epoch 13/50\n",
            "50000/50000 [==============================] - 103s 2ms/step - loss: 0.0947 - acc: 0.9667 - val_loss: 1.5213 - val_acc: 0.6986\n",
            "Epoch 14/50\n",
            "50000/50000 [==============================] - 103s 2ms/step - loss: 0.0760 - acc: 0.9746 - val_loss: 1.5036 - val_acc: 0.7120\n",
            "Epoch 15/50\n",
            "50000/50000 [==============================] - 103s 2ms/step - loss: 0.0903 - acc: 0.9682 - val_loss: 1.4947 - val_acc: 0.7150\n",
            "Epoch 16/50\n",
            "50000/50000 [==============================] - 103s 2ms/step - loss: 0.0791 - acc: 0.9728 - val_loss: 1.9278 - val_acc: 0.6543\n",
            "Epoch 17/50\n",
            "50000/50000 [==============================] - 103s 2ms/step - loss: 0.0689 - acc: 0.9763 - val_loss: 1.5880 - val_acc: 0.7091\n",
            "Epoch 18/50\n",
            "50000/50000 [==============================] - 103s 2ms/step - loss: 0.0637 - acc: 0.9775 - val_loss: 1.6347 - val_acc: 0.7009\n",
            "Epoch 19/50\n",
            "50000/50000 [==============================] - 102s 2ms/step - loss: 0.0488 - acc: 0.9832 - val_loss: 1.5687 - val_acc: 0.7217\n",
            "Epoch 20/50\n",
            "50000/50000 [==============================] - 103s 2ms/step - loss: 0.0560 - acc: 0.9811 - val_loss: 1.8176 - val_acc: 0.6943\n",
            "Epoch 21/50\n",
            "50000/50000 [==============================] - 103s 2ms/step - loss: 0.0624 - acc: 0.9783 - val_loss: 1.8839 - val_acc: 0.6943\n",
            "Epoch 22/50\n",
            "50000/50000 [==============================] - 103s 2ms/step - loss: 0.0585 - acc: 0.9795 - val_loss: 1.7596 - val_acc: 0.6975\n",
            "Epoch 23/50\n",
            "50000/50000 [==============================] - 103s 2ms/step - loss: 0.0421 - acc: 0.9855 - val_loss: 1.9428 - val_acc: 0.6955\n",
            "Epoch 24/50\n",
            "50000/50000 [==============================] - 103s 2ms/step - loss: 0.0353 - acc: 0.9885 - val_loss: 1.6871 - val_acc: 0.7199\n",
            "Epoch 25/50\n",
            "50000/50000 [==============================] - 103s 2ms/step - loss: 0.0380 - acc: 0.9873 - val_loss: 2.1977 - val_acc: 0.6778\n",
            "Epoch 26/50\n",
            "50000/50000 [==============================] - 103s 2ms/step - loss: 0.0616 - acc: 0.9783 - val_loss: 1.8673 - val_acc: 0.7084\n",
            "Epoch 27/50\n",
            "50000/50000 [==============================] - 103s 2ms/step - loss: 0.0530 - acc: 0.9818 - val_loss: 1.9156 - val_acc: 0.7098\n",
            "Epoch 28/50\n",
            "50000/50000 [==============================] - 103s 2ms/step - loss: 0.0309 - acc: 0.9892 - val_loss: 1.7774 - val_acc: 0.7244\n",
            "Epoch 29/50\n",
            "50000/50000 [==============================] - 103s 2ms/step - loss: 0.0203 - acc: 0.9937 - val_loss: 1.8528 - val_acc: 0.7156\n",
            "Epoch 30/50\n",
            "50000/50000 [==============================] - 103s 2ms/step - loss: 0.0385 - acc: 0.9863 - val_loss: 1.9062 - val_acc: 0.7119\n",
            "Epoch 31/50\n",
            "50000/50000 [==============================] - 103s 2ms/step - loss: 0.0517 - acc: 0.9825 - val_loss: 1.9549 - val_acc: 0.7100\n",
            "Epoch 32/50\n",
            "50000/50000 [==============================] - 103s 2ms/step - loss: 0.0403 - acc: 0.9860 - val_loss: 1.9685 - val_acc: 0.7021\n",
            "Epoch 33/50\n",
            "50000/50000 [==============================] - 103s 2ms/step - loss: 0.0302 - acc: 0.9893 - val_loss: 2.0948 - val_acc: 0.7030\n",
            "Epoch 34/50\n",
            "50000/50000 [==============================] - 103s 2ms/step - loss: 0.0227 - acc: 0.9921 - val_loss: 2.1029 - val_acc: 0.7023\n",
            "Epoch 35/50\n",
            "50000/50000 [==============================] - 103s 2ms/step - loss: 0.0196 - acc: 0.9937 - val_loss: 1.8556 - val_acc: 0.7287\n",
            "Epoch 36/50\n",
            "50000/50000 [==============================] - 103s 2ms/step - loss: 0.0320 - acc: 0.9889 - val_loss: 2.0327 - val_acc: 0.7181\n",
            "Epoch 37/50\n",
            "50000/50000 [==============================] - 103s 2ms/step - loss: 0.0396 - acc: 0.9863 - val_loss: 2.1725 - val_acc: 0.6896\n",
            "Epoch 38/50\n",
            "50000/50000 [==============================] - 103s 2ms/step - loss: 0.0268 - acc: 0.9903 - val_loss: 2.3135 - val_acc: 0.6778\n",
            "Epoch 39/50\n",
            "50000/50000 [==============================] - 103s 2ms/step - loss: 0.0282 - acc: 0.9900 - val_loss: 2.1437 - val_acc: 0.7080\n",
            "Epoch 40/50\n",
            "50000/50000 [==============================] - 103s 2ms/step - loss: 0.0310 - acc: 0.9890 - val_loss: 2.1040 - val_acc: 0.7041\n",
            "Epoch 41/50\n",
            "50000/50000 [==============================] - 103s 2ms/step - loss: 0.0222 - acc: 0.9923 - val_loss: 2.2378 - val_acc: 0.6991\n",
            "Epoch 42/50\n",
            "50000/50000 [==============================] - 103s 2ms/step - loss: 0.0221 - acc: 0.9923 - val_loss: 2.0786 - val_acc: 0.7155\n",
            "Epoch 43/50\n",
            "50000/50000 [==============================] - 102s 2ms/step - loss: 0.0233 - acc: 0.9919 - val_loss: 2.1283 - val_acc: 0.7114\n",
            "Epoch 44/50\n",
            "50000/50000 [==============================] - 103s 2ms/step - loss: 0.0214 - acc: 0.9926 - val_loss: 2.1653 - val_acc: 0.7185\n",
            "Epoch 45/50\n",
            "50000/50000 [==============================] - 103s 2ms/step - loss: 0.0328 - acc: 0.9889 - val_loss: 2.1338 - val_acc: 0.7177\n",
            "Epoch 46/50\n",
            "50000/50000 [==============================] - 103s 2ms/step - loss: 0.0311 - acc: 0.9891 - val_loss: 2.1087 - val_acc: 0.7142\n",
            "Epoch 47/50\n",
            "50000/50000 [==============================] - 102s 2ms/step - loss: 0.0226 - acc: 0.9919 - val_loss: 2.2108 - val_acc: 0.7124\n",
            "Epoch 48/50\n",
            "50000/50000 [==============================] - 103s 2ms/step - loss: 0.0146 - acc: 0.9950 - val_loss: 2.0857 - val_acc: 0.7192\n",
            "Epoch 49/50\n",
            "50000/50000 [==============================] - 103s 2ms/step - loss: 0.0180 - acc: 0.9940 - val_loss: 2.1148 - val_acc: 0.7236\n",
            "Epoch 50/50\n",
            "50000/50000 [==============================] - 103s 2ms/step - loss: 0.0155 - acc: 0.9946 - val_loss: 2.0733 - val_acc: 0.7290\n"
          ],
          "name": "stdout"
        },
        {
          "output_type": "execute_result",
          "data": {
            "text/plain": [
              "<keras.callbacks.History at 0x7f04a8325400>"
            ]
          },
          "metadata": {
            "tags": []
          },
          "execution_count": 11
        }
      ]
    },
    {
      "metadata": {
        "id": "pTfZIGrf4Uyd",
        "colab_type": "code",
        "colab": {
          "base_uri": "https://localhost:8080/",
          "height": 85
        },
        "outputId": "29f1fae9-079b-4dc2-979c-b64bbc2455d0"
      },
      "cell_type": "code",
      "source": [
        "# Test the model\n",
        "score = model.evaluate(x_test, y_test, verbose=1)\n",
        "print('Test loss:', score[0])\n",
        "print('Test accuracy:', score[1])\n",
        "# Save the trained weights in to .h5 format\n",
        "model.save_weights(\"Yolo_Basic_model2.h5\")\n",
        "print(\"Saved the model to disk\")"
      ],
      "execution_count": 12,
      "outputs": [
        {
          "output_type": "stream",
          "text": [
            "10000/10000 [==============================] - 8s 766us/step\n",
            "Test loss: 2.0733346270561217\n",
            "Test accuracy: 0.729\n",
            "Saved the model to disk\n"
          ],
          "name": "stdout"
        }
      ]
    },
    {
      "metadata": {
        "id": "Jiyb9TlVGsZs",
        "colab_type": "code",
        "colab": {
          "base_uri": "https://localhost:8080/",
          "height": 554
        },
        "outputId": "d3e8381c-95a6-4176-88d6-59d30d995c76"
      },
      "cell_type": "code",
      "source": [
        "model.save_weights(\"Yolo_Basic_model2.h5\")\n",
        "print(\"Saved the model to disk\")\n",
        "from google.colab import files\n",
        "\n",
        "files.download('Yolo_Basic_model2.h5')"
      ],
      "execution_count": 14,
      "outputs": [
        {
          "output_type": "stream",
          "text": [
            "Saved the model to disk\n"
          ],
          "name": "stdout"
        },
        {
          "output_type": "error",
          "ename": "KeyboardInterrupt",
          "evalue": "ignored",
          "traceback": [
            "\u001b[0;31m---------------------------------------------------------------------------\u001b[0m",
            "\u001b[0;31mKeyboardInterrupt\u001b[0m                         Traceback (most recent call last)",
            "\u001b[0;32m<ipython-input-14-d214d4bb6af2>\u001b[0m in \u001b[0;36m<module>\u001b[0;34m()\u001b[0m\n\u001b[1;32m      3\u001b[0m \u001b[0;32mfrom\u001b[0m \u001b[0mgoogle\u001b[0m\u001b[0;34m.\u001b[0m\u001b[0mcolab\u001b[0m \u001b[0;32mimport\u001b[0m \u001b[0mfiles\u001b[0m\u001b[0;34m\u001b[0m\u001b[0;34m\u001b[0m\u001b[0m\n\u001b[1;32m      4\u001b[0m \u001b[0;34m\u001b[0m\u001b[0m\n\u001b[0;32m----> 5\u001b[0;31m \u001b[0mfiles\u001b[0m\u001b[0;34m.\u001b[0m\u001b[0mdownload\u001b[0m\u001b[0;34m(\u001b[0m\u001b[0;34m'Yolo_Basic_model2.h5'\u001b[0m\u001b[0;34m)\u001b[0m\u001b[0;34m\u001b[0m\u001b[0;34m\u001b[0m\u001b[0m\n\u001b[0m",
            "\u001b[0;32m/usr/local/lib/python3.6/dist-packages/google/colab/files.py\u001b[0m in \u001b[0;36mdownload\u001b[0;34m(filename)\u001b[0m\n\u001b[1;32m    176\u001b[0m       \u001b[0;34m'port'\u001b[0m\u001b[0;34m:\u001b[0m \u001b[0mport\u001b[0m\u001b[0;34m,\u001b[0m\u001b[0;34m\u001b[0m\u001b[0;34m\u001b[0m\u001b[0m\n\u001b[1;32m    177\u001b[0m       \u001b[0;34m'path'\u001b[0m\u001b[0;34m:\u001b[0m \u001b[0m_os\u001b[0m\u001b[0;34m.\u001b[0m\u001b[0mpath\u001b[0m\u001b[0;34m.\u001b[0m\u001b[0mabspath\u001b[0m\u001b[0;34m(\u001b[0m\u001b[0mfilename\u001b[0m\u001b[0;34m)\u001b[0m\u001b[0;34m,\u001b[0m\u001b[0;34m\u001b[0m\u001b[0;34m\u001b[0m\u001b[0m\n\u001b[0;32m--> 178\u001b[0;31m       \u001b[0;34m'name'\u001b[0m\u001b[0;34m:\u001b[0m \u001b[0m_os\u001b[0m\u001b[0;34m.\u001b[0m\u001b[0mpath\u001b[0m\u001b[0;34m.\u001b[0m\u001b[0mbasename\u001b[0m\u001b[0;34m(\u001b[0m\u001b[0mfilename\u001b[0m\u001b[0;34m)\u001b[0m\u001b[0;34m,\u001b[0m\u001b[0;34m\u001b[0m\u001b[0;34m\u001b[0m\u001b[0m\n\u001b[0m\u001b[1;32m    179\u001b[0m   })\n",
            "\u001b[0;32m/usr/local/lib/python3.6/dist-packages/google/colab/output/_js.py\u001b[0m in \u001b[0;36meval_js\u001b[0;34m(script, ignore_result)\u001b[0m\n\u001b[1;32m     37\u001b[0m   \u001b[0;32mif\u001b[0m \u001b[0mignore_result\u001b[0m\u001b[0;34m:\u001b[0m\u001b[0;34m\u001b[0m\u001b[0;34m\u001b[0m\u001b[0m\n\u001b[1;32m     38\u001b[0m     \u001b[0;32mreturn\u001b[0m\u001b[0;34m\u001b[0m\u001b[0;34m\u001b[0m\u001b[0m\n\u001b[0;32m---> 39\u001b[0;31m   \u001b[0;32mreturn\u001b[0m \u001b[0m_message\u001b[0m\u001b[0;34m.\u001b[0m\u001b[0mread_reply_from_input\u001b[0m\u001b[0;34m(\u001b[0m\u001b[0mrequest_id\u001b[0m\u001b[0;34m)\u001b[0m\u001b[0;34m\u001b[0m\u001b[0;34m\u001b[0m\u001b[0m\n\u001b[0m\u001b[1;32m     40\u001b[0m \u001b[0;34m\u001b[0m\u001b[0m\n\u001b[1;32m     41\u001b[0m \u001b[0;34m\u001b[0m\u001b[0m\n",
            "\u001b[0;32m/usr/local/lib/python3.6/dist-packages/google/colab/_message.py\u001b[0m in \u001b[0;36mread_reply_from_input\u001b[0;34m(message_id, timeout_sec)\u001b[0m\n\u001b[1;32m     99\u001b[0m     \u001b[0mreply\u001b[0m \u001b[0;34m=\u001b[0m \u001b[0m_read_next_input_message\u001b[0m\u001b[0;34m(\u001b[0m\u001b[0;34m)\u001b[0m\u001b[0;34m\u001b[0m\u001b[0;34m\u001b[0m\u001b[0m\n\u001b[1;32m    100\u001b[0m     \u001b[0;32mif\u001b[0m \u001b[0mreply\u001b[0m \u001b[0;34m==\u001b[0m \u001b[0m_NOT_READY\u001b[0m \u001b[0;32mor\u001b[0m \u001b[0;32mnot\u001b[0m \u001b[0misinstance\u001b[0m\u001b[0;34m(\u001b[0m\u001b[0mreply\u001b[0m\u001b[0;34m,\u001b[0m \u001b[0mdict\u001b[0m\u001b[0;34m)\u001b[0m\u001b[0;34m:\u001b[0m\u001b[0;34m\u001b[0m\u001b[0;34m\u001b[0m\u001b[0m\n\u001b[0;32m--> 101\u001b[0;31m       \u001b[0mtime\u001b[0m\u001b[0;34m.\u001b[0m\u001b[0msleep\u001b[0m\u001b[0;34m(\u001b[0m\u001b[0;36m0.025\u001b[0m\u001b[0;34m)\u001b[0m\u001b[0;34m\u001b[0m\u001b[0;34m\u001b[0m\u001b[0m\n\u001b[0m\u001b[1;32m    102\u001b[0m       \u001b[0;32mcontinue\u001b[0m\u001b[0;34m\u001b[0m\u001b[0;34m\u001b[0m\u001b[0m\n\u001b[1;32m    103\u001b[0m     if (reply.get('type') == 'colab_reply' and\n",
            "\u001b[0;31mKeyboardInterrupt\u001b[0m: "
          ]
        }
      ]
    },
    {
      "metadata": {
        "id": "g9A3pesKbUJ8",
        "colab_type": "code",
        "colab": {}
      },
      "cell_type": "code",
      "source": [
        ""
      ],
      "execution_count": 0,
      "outputs": []
    }
  ]
}