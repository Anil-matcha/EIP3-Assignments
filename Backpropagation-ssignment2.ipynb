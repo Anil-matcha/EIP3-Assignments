{
  "nbformat": 4,
  "nbformat_minor": 0,
  "metadata": {
    "colab": {
      "name": "Backpropagation.ipynb",
      "version": "0.3.2",
      "provenance": [],
      "include_colab_link": true
    },
    "kernelspec": {
      "name": "python3",
      "display_name": "Python 3"
    }
  },
  "cells": [
    {
      "cell_type": "markdown",
      "metadata": {
        "id": "view-in-github",
        "colab_type": "text"
      },
      "source": [
        "<a href=\"https://colab.research.google.com/github/Anil1331/EIP3-Assignments/blob/master/Backpropagation-ssignment2.ipynb\" target=\"_parent\"><img src=\"https://colab.research.google.com/assets/colab-badge.svg\" alt=\"Open In Colab\"/></a>"
      ]
    },
    {
      "metadata": {
        "id": "I2tf8dfqTHtp",
        "colab_type": "code",
        "colab": {}
      },
      "cell_type": "code",
      "source": [
        "2A assignment"
      ],
      "execution_count": 0,
      "outputs": []
    },
    {
      "metadata": {
        "id": "a8iW5-kcV2-5",
        "colab_type": "text"
      },
      "cell_type": "markdown",
      "source": [
        "# Overview\n",
        "\n",
        "In this post, we will build a neural network with three layers:\n",
        "\n",
        "Input layer with two inputs neurons\n",
        "One hidden layer with two neurons\n",
        "Output layer with a single neuron\n",
        "\n",
        "![alt](https://hmkcode.github.io/images/ai/nn1.png)\n",
        "\n",
        "# Weights, weights, weights\n",
        "\n",
        "Neural network training is about finding weights that minimize prediction error. We usually start our training with a set of randomly generated weights.Then, backpropagation is used to update the weights in an attempt to correctly map arbitrary inputs to outputs.\n",
        "\n",
        "Our initial weights will be as following: w1 = 0.1, w2 = 0.2, w3 = 0.1, w4 = 0.3, w5 = 0.1 and w6 = 0.2\n",
        "\n",
        "# Dataset\n",
        "\n",
        "Our dataset has one sample with two inputs and one output.\n",
        "\n",
        "![alt](https://hmkcode.github.io/images/ai/bp_dataset.png)\n",
        "\n",
        "Our single sample is as following inputs=[2, 3] and output=[1].\n",
        "\n",
        "![alt](https://hmkcode.github.io/images/ai/bp_sample.png)\n",
        "\n",
        "# Forward Pass\n",
        "\n",
        "We will use given weights and inputs to predict the output. Inputs are multiplied by weights; the results are then passed forward to next layer.\n",
        "\n",
        "[2 3] $\\begin{bmatrix}0.1 & 0.1\\\\0.2 & 0.3\\end{bmatrix}$ =  [0.8 1.1] $\\begin{bmatrix}0.1\\\\0.2\\end{bmatrix}$ =  [0.3]\n",
        "\n",
        "# Calculating Error\n",
        "\n",
        "Now, it’s time to find out how our network performed by calculating the difference between the actual output and predicted one. It’s clear that our network output, or prediction, is not even close to actual output. We can calculate the difference or the error as following.\n",
        "\n",
        "\n",
        "Error = 1/2*(0.3-1)**2 = 0.245\n",
        "\n",
        "# Reducing Error\n",
        "\n",
        "Our main goal of the training is to reduce the error or the difference between prediction and actual output. Since actual output is constant, “not changing”, the only way to reduce the error is to change prediction value. The question now is, how to change prediction value?\n",
        "\n",
        "By decomposing prediction into its basic elements we can find that weights are the variable elements affecting prediction value. In other words, in order to change prediction value, we need to change weights values.\n",
        "\n",
        "![alt](https://hmkcode.github.io/images/ai/bp_prediction_elements.png)\n",
        "\n",
        "> The question now is how to change\\update the weights value so that the error is reduced?\n",
        "The answer is Backpropagation!\n",
        "\n",
        "# Backpropagation\n",
        "\n",
        "Backpropagation, short for “backward propagation of errors”, is a mechanism used to update the weights using gradient descent. It calculates the gradient of the error function with respect to the neural network’s weights. The calculation proceeds backwards through the network.\n",
        "\n",
        ">Gradient descent is an iterative optimization algorithm for finding the minimum of a function; in our case we want to minimize th error function. To find a local minimum of a function using gradient descent, one takes steps proportional to the negative of the gradient of the function at the current point.\n",
        "\n",
        "![alt](https://hmkcode.github.io/images/ai/bp_update_formula.png)\n",
        "\n",
        "For example, to update w6, we take the current w6 and subtract the partial derivative of error function with respect to w6. Optionally, we multiply the derivative of the error function by a selected number to make sure that the new updated weight is minimizing the error function; this number is called learning rate.\n",
        "\n",
        "![alt](https://hmkcode.github.io/images/ai/bp_w6_update.png)\n",
        "\n",
        "The derivation of the error function is evaluated by applying the chain rule as following\n",
        "\n",
        "![alt](https://hmkcode.github.io/images/ai/bp_error_function_partial_derivative_w6.png)\n",
        "\n",
        "So to update w6 we can apply the following formula\n",
        "\n",
        "![alt](https://hmkcode.github.io/images/ai/bp_w6_update_closed_form.png)\n",
        "\n",
        "Similarly, we can derive the update formula for w5 and any other weights existing between the output and the hidden layer.\n",
        "\n",
        "![alt](https://hmkcode.github.io/images/ai/bp_w5_update_closed_form.png)\n",
        "\n",
        "However, when moving backward to update w1, w2, w3 and w4 existing between input and hidden layer, the partial derivative for the error function with respect to w1, for example, will be as following.\n",
        "\n",
        "![alt](https://hmkcode.github.io/images/ai/bp_error_function_partial_derivative_w1.png)\n",
        "\n",
        "We can find the update formula for the remaining weights w2, w3 and w4 in the same way.\n",
        "\n",
        "In summary, the update formulas for all weights will be as following:\n",
        "\n",
        "![alt](https://hmkcode.github.io/images/ai/bp_update_all_weights.png)\n",
        "\n",
        "We can rewrite the update formulas in matrices as following\n",
        "\n",
        "![alt](https://hmkcode.github.io/images/ai/bp_update_all_weights_matrix.png)\n",
        "\n",
        "# Backward Pass\n",
        "\n",
        "Using derived formulas we can find the new weights.\n",
        "\n",
        "Learning rate: is a hyperparameter which means that we need to manually guess its value.\n",
        "\n",
        "Δ = 0.3 - 1 = -0.7\n",
        "a = 0.05\n",
        "\n",
        "$\\begin{bmatrix}w5\\\\w6\\end{bmatrix}$ =  $\\begin{bmatrix}0.1\\\\0.2\\end{bmatrix}$-0.05(-0.7)$\\begin{bmatrix}0.8\\\\1.1\\end{bmatrix}$ = $\\begin{bmatrix}0.128\\\\0.2385\\end{bmatrix}$\n",
        "\n",
        "$\\begin{bmatrix}w1 & w3\\\\w2 & w4\\end{bmatrix}$ = $\\begin{bmatrix}0.1 & 0.2\\\\0.1 & 0.3\\end{bmatrix}$-0.05(-0.7)$\\begin{bmatrix}2\\\\3\\end{bmatrix}$$\\begin{bmatrix}0.1 & 0.2\\end{bmatrix}$ = $\\begin{bmatrix}0.1 & 0.2\\\\0.1 & 0.3\\end{bmatrix}$+$\\begin{bmatrix}0.007 & 0.014\\\\0.0105 & 0.021\\end{bmatrix}$ = $\\begin{bmatrix}0.11 & 0.21\\\\0.11 & 0.32\\end{bmatrix}$\n",
        "\n",
        "Now, using the new weights we will repeat the forward pass\n",
        "\n",
        "[2 3]$\\begin{bmatrix}0.11 & 0.21\\\\0.11 & 0.32\\end{bmatrix}$ = [0.85 1.18]$\\begin{bmatrix}0.13\\\\0.24\\end{bmatrix}$ = 0.3937\n",
        "\n",
        "We can notice that the prediction 0.3937 is a little bit closer to actual output than the previously predicted one 0.3. We can repeat the same process of backward and forward pass until error is close or equal to zero.\n",
        "\n"
      ]
    },
    {
      "metadata": {
        "id": "zNYCTTMaxyI4",
        "colab_type": "text"
      },
      "cell_type": "markdown",
      "source": [
        "2B assignment"
      ]
    },
    {
      "metadata": {
        "id": "sKEXwF_WnJ8w",
        "colab_type": "code",
        "colab": {}
      },
      "cell_type": "code",
      "source": [
        "import numpy as np\n",
        "inp = np.matrix([2, 3])\n",
        "layer1 = np.matrix([[0.1, 0.1], [0.2, 0.3]])\n",
        "layer2 = np.matrix([[0.1], [0.2]])\n",
        "out = 1"
      ],
      "execution_count": 0,
      "outputs": []
    },
    {
      "metadata": {
        "id": "M4_alW6rn094",
        "colab_type": "code",
        "colab": {
          "base_uri": "https://localhost:8080/",
          "height": 51
        },
        "outputId": "290dc754-54fe-4185-9761-3ca20ea02967"
      },
      "cell_type": "code",
      "source": [
        "tmp1 = np.matmul(inp, layer1)\n",
        "tmp2 = np.matmul(tmp1, layer2)\n",
        "pred  = tmp2[0, 0]"
      ],
      "execution_count": 65,
      "outputs": [
        {
          "output_type": "stream",
          "text": [
            "(2, 1) (1, 2) [[0.1]\n",
            " [0.2]] [[0.8 1.1]]\n"
          ],
          "name": "stdout"
        }
      ]
    },
    {
      "metadata": {
        "id": "6uGn6iZ7oT48",
        "colab_type": "code",
        "colab": {
          "base_uri": "https://localhost:8080/",
          "height": 102
        },
        "outputId": "fcb8bc2a-33bc-4a0b-8cd2-e67a89044092"
      },
      "cell_type": "code",
      "source": [
        "error = 0.5*((pred - out)**2)\n",
        "delta = pred-out\n",
        "a = 0.05\n",
        "inpcol = np.matrix([[2], [3]])\n",
        "layer2 = layer2 - np.multiply(a*delta, np.transpose(tmp1))\n",
        "tmp4 = np.matmul(inpcol, np.transpose(layer2))\n",
        "layer1 = layer1 - np.multiply(a*delta, tmp4)"
      ],
      "execution_count": 66,
      "outputs": [
        {
          "output_type": "stream",
          "text": [
            "[[-0.028 ]\n",
            " [-0.0385]]\n",
            "(2, 1) (2, 1) [[2]\n",
            " [3]] [[0.128 ]\n",
            " [0.2385]]\n"
          ],
          "name": "stdout"
        }
      ]
    },
    {
      "metadata": {
        "id": "xkZDEe0toVLu",
        "colab_type": "code",
        "colab": {}
      },
      "cell_type": "code",
      "source": [
        "tmp1 = np.matmul(inp, layer1)\n",
        "tmp2 = np.matmul(tmp1, layer2)\n",
        "pred  = tmp2[0, 0]\n",
        "diff = pred-out"
      ],
      "execution_count": 0,
      "outputs": []
    },
    {
      "metadata": {
        "id": "G24BYrAxr7aw",
        "colab_type": "code",
        "colab": {
          "base_uri": "https://localhost:8080/",
          "height": 34
        },
        "outputId": "6824e705-f0eb-42fb-dc45-077fd7a09675"
      },
      "cell_type": "code",
      "source": [
        "diff"
      ],
      "execution_count": 68,
      "outputs": [
        {
          "output_type": "execute_result",
          "data": {
            "text/plain": [
              "-0.6019138562499999"
            ]
          },
          "metadata": {
            "tags": []
          },
          "execution_count": 68
        }
      ]
    }
  ]
}